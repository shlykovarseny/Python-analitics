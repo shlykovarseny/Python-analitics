{
 "cells": [
  {
   "cell_type": "markdown",
   "id": "a26070f9",
   "metadata": {},
   "source": [
    "##  Урок 01"
   ]
  },
  {
   "cell_type": "markdown",
   "id": "add1c972",
   "metadata": {},
   "source": [
    "### Задача 01"
   ]
  },
  {
   "cell_type": "markdown",
   "id": "d95dee79",
   "metadata": {},
   "source": [
    "На складе лежат разные фрукты в разном количестве. Нужно написать функцию, которая на вход принимает любое количество названий фруктов и их количество, а возвращает общее количество фруктов на складе"
   ]
  },
  {
   "cell_type": "code",
   "execution_count": 3,
   "id": "4ba4d3d9",
   "metadata": {},
   "outputs": [],
   "source": [
    "def f(data: dict[str, int]):\n",
    "    return sum(data.values())"
   ]
  },
  {
   "cell_type": "code",
   "execution_count": 5,
   "id": "aabcdf46",
   "metadata": {},
   "outputs": [
    {
     "name": "stdout",
     "output_type": "stream",
     "text": [
      "12\n"
     ]
    }
   ],
   "source": [
    "fruits = {'apple': 5, 'orange': 7}\n",
    "\n",
    "print(f(fruits))"
   ]
  },
  {
   "cell_type": "markdown",
   "id": "3efa7c57",
   "metadata": {},
   "source": [
    "### Задача 02"
   ]
  },
  {
   "cell_type": "markdown",
   "id": "6224a454",
   "metadata": {},
   "source": [
    "Дан список с затратами на рекламу. Но в данных есть ошибки, некоторые затраты имеют отрицательную величину. Удалите такие значения из списка и посчитайте суммарные затраты"
   ]
  },
  {
   "cell_type": "code",
   "execution_count": 8,
   "id": "79a56f85",
   "metadata": {},
   "outputs": [
    {
     "name": "stdout",
     "output_type": "stream",
     "text": [
      "1425\n"
     ]
    }
   ],
   "source": [
    "costs = [100, 125, -90, 345, 655, -1, 0, 200]\n",
    "\n",
    "sum_of_positive = sum([x for x in costs if x >= 0])\n",
    "\n",
    "print(sum_of_positive)"
   ]
  },
  {
   "cell_type": "markdown",
   "id": "0c93f1d3",
   "metadata": {},
   "source": [
    "### Задача 03.1"
   ]
  },
  {
   "cell_type": "markdown",
   "id": "cc90cf83",
   "metadata": {},
   "source": [
    "Даны два списка. Даты покупок и суммы покупок по датам. Найдите, какая выручка у компании в ноябре. Используйте list comprehensions"
   ]
  },
  {
   "cell_type": "code",
   "execution_count": 31,
   "id": "86b696e0",
   "metadata": {},
   "outputs": [
    {
     "name": "stdout",
     "output_type": "stream",
     "text": [
      "25098\n"
     ]
    }
   ],
   "source": [
    "dates = ['2021-09-14', '2021-12-15', '2021-09-08', '2021-12-05', '2021-10-09', '2021-09-30', '2021-12-22', '2021-11-29', '2021-12-24', '2021-11-26', '2021-10-27', '2021-12-18', '2021-11-09', '2021-11-23', '2021-09-27', '2021-10-02', '2021-12-27', '2021-09-20', '2021-12-13', '2021-11-01', '2021-11-09', '2021-12-06', '2021-12-08', '2021-10-09', '2021-10-31', '2021-09-30', '2021-11-09', '2021-12-13', '2021-10-26', '2021-12-09']\n",
    "\n",
    "costs = [1270, 8413, 9028, 3703, 5739, 4095, 295, 4944, 5723, 3701, 4471, 651, 7037, 4274, 6275, 4988, 6930, 2971, 6592, 2004, 2822, 519, 3406, 2732, 5015, 2008, 316, 6333, 5700, 2887]\n",
    "\n",
    "zipped = list(zip(dates, costs))\n",
    "\n",
    "nov_items = [x for x in zipped if (int)(x[0].split(\"-\")[1]) == 11]\n",
    "\n",
    "nov_sum = sum(map(lambda x: x[1], nov_items))\n",
    "\n",
    "print(nov_sum)"
   ]
  },
  {
   "cell_type": "markdown",
   "id": "dc0f055b",
   "metadata": {},
   "source": [
    "### Задача 03.2"
   ]
  },
  {
   "cell_type": "markdown",
   "id": "0065ef36",
   "metadata": {},
   "source": [
    "Найдите выручку компании в зависимости от месяца. Для этого напишите функцию, которая на вход принимает список с датами и список с выручкой, а на выходе словарь, где ключи - это месяцы, а значения - это выручка. Используйте аннотирование типов."
   ]
  },
  {
   "cell_type": "code",
   "execution_count": 39,
   "id": "8aee18dd",
   "metadata": {},
   "outputs": [],
   "source": [
    "def by_month (dates_: list[str], costs_: list[int], trget_month:int) -> int:\n",
    "    \n",
    "    monthes_ = map(lambda x: (int)(x.split(\"-\")[1]), dates_)\n",
    "    \n",
    "    zipped_ = list(zip(monthes_, costs_))\n",
    "    \n",
    "    return sum(map(lambda y: y[1], filter(lambda x: x[0] == trget_month,zipped_)))"
   ]
  },
  {
   "cell_type": "code",
   "execution_count": 40,
   "id": "f594ce1c",
   "metadata": {},
   "outputs": [
    {
     "name": "stdout",
     "output_type": "stream",
     "text": [
      "25098\n"
     ]
    }
   ],
   "source": [
    "print(by_month(dates, costs, 11))"
   ]
  }
 ],
 "metadata": {
  "kernelspec": {
   "display_name": "Python 3 (ipykernel)",
   "language": "python",
   "name": "python3"
  },
  "language_info": {
   "codemirror_mode": {
    "name": "ipython",
    "version": 3
   },
   "file_extension": ".py",
   "mimetype": "text/x-python",
   "name": "python",
   "nbconvert_exporter": "python",
   "pygments_lexer": "ipython3",
   "version": "3.9.13"
  }
 },
 "nbformat": 4,
 "nbformat_minor": 5
}
